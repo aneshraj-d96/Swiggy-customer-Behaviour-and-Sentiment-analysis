{
 "cells": [
  {
   "cell_type": "code",
   "execution_count": 3,
   "id": "9eb6d436",
   "metadata": {},
   "outputs": [
    {
     "name": "stdout",
     "output_type": "stream",
     "text": [
      "✅ Bangalore-specific Swiggy dataset with 200,000 records saved as 'bangalore_swiggy_data.csv'\n"
     ]
    }
   ],
   "source": [
    "import pandas as pd\n",
    "import numpy as np\n",
    "import random\n",
    "from faker import Faker\n",
    "\n",
    "fake = Faker()\n",
    "Faker.seed(42)\n",
    "np.random.seed(42)\n",
    "\n",
    "# Parameters\n",
    "n = 200_000\n",
    "\n",
    "# Bangalore-specific pools\n",
    "areas = [\n",
    "    \"Koramangala\", \"Indiranagar\", \"Whitefield\", \"MG Road\", \"Jayanagar\", \"HSR Layout\",\n",
    "    \"Rajajinagar\", \"Malleshwaram\", \"Banashankari\", \"BTM Layout\", \"Hebbal\", \"Yelahanka\",\n",
    "    \"Electronic City\", \"Marathahalli\", \"Basavanagudi\", \"Frazer Town\", \"Ulsoor\", \"Bellandur\"\n",
    "]\n",
    "\n",
    "restaurants = [\n",
    "    \"Truffles\", \"Empire Restaurant\", \"Meghana Foods\", \"Toit\", \"Sly Granny\", \"Biryani Pot\",\n",
    "    \"Nagarjuna\", \"The Black Pearl\", \"Barbeque Nation\", \"Gilly's Restobar\", \"Koshy's\",\n",
    "    \"Airlines Hotel\", \"MTR\", \"Savoury Restaurant\", \"Karavalli\", \"Corner House\", \"Chutney Chang\"\n",
    "]\n",
    "\n",
    "cuisines = ['Indian', 'Chinese', 'Italian', 'Mexican', 'Thai', 'American', 'Middle Eastern']\n",
    "payment_methods = ['UPI', 'Credit Card', 'Debit Card', 'Cash', 'Wallet']\n",
    "genders = ['Male', 'Female', 'Other']\n",
    "sentiments = ['Positive', 'Neutral', 'Negative']\n",
    "\n",
    "# Generate data\n",
    "data = {\n",
    "    \"Customer_ID\": [fake.uuid4() for _ in range(n)],\n",
    "    \"Order_Date\": [fake.date_time_between(start_date='-2y', end_date='now') for _ in range(n)],\n",
    "    \"Restaurant_Name\": [random.choice(restaurants) for _ in range(n)],\n",
    "    \"Area\": [random.choice(areas) for _ in range(n)],\n",
    "    \"Cuisine_Type\": [random.choice(cuisines) for _ in range(n)],\n",
    "    \"Order_Value\": np.round(np.random.normal(loc=350, scale=120, size=n), 2),\n",
    "    \"Delivery_Time_Min\": np.random.randint(15, 90, size=n),\n",
    "    \"Delivery_Rating\": np.random.randint(1, 6, size=n),\n",
    "    \"Food_Rating\": np.random.randint(1, 6, size=n),\n",
    "    \"Payment_Method\": [random.choice(payment_methods) for _ in range(n)],\n",
    "    \"Customer_Age\": np.random.randint(18, 65, size=n),\n",
    "    \"Customer_Gender\": [random.choice(genders) for _ in range(n)],\n",
    "    \"Sentiment\": [random.choices(sentiments, weights=[0.6, 0.25, 0.15])[0] for _ in range(n)],\n",
    "    \"City\": [\"Bangalore\"] * n\n",
    "}\n",
    "\n",
    "df = pd.DataFrame(data)\n",
    "\n",
    "# Save to CSV\n",
    "df.to_csv(\"swiggy_data.csv\", index=False)\n",
    "\n",
    "print(\"✅ Bangalore-specific Swiggy dataset with 200,000 records saved as 'bangalore_swiggy_data.csv'\")\n"
   ]
  },
  {
   "cell_type": "code",
   "execution_count": 2,
   "id": "83ff1139",
   "metadata": {},
   "outputs": [
    {
     "name": "stdout",
     "output_type": "stream",
     "text": [
      "Collecting faker\n",
      "  Downloading faker-37.5.3-py3-none-any.whl.metadata (15 kB)\n",
      "Requirement already satisfied: tzdata in c:\\users\\dhusyath\\anaconda3\\lib\\site-packages (from faker) (2025.2)\n",
      "Downloading faker-37.5.3-py3-none-any.whl (1.9 MB)\n",
      "   ---------------------------------------- 0.0/1.9 MB ? eta -:--:--\n",
      "   ---------------------------------------- 1.9/1.9 MB 13.5 MB/s eta 0:00:00\n",
      "Installing collected packages: faker\n",
      "Successfully installed faker-37.5.3\n",
      "Note: you may need to restart the kernel to use updated packages.\n"
     ]
    }
   ],
   "source": [
    "%pip install faker\n"
   ]
  },
  {
   "cell_type": "code",
   "execution_count": 2,
   "id": "cac955b7",
   "metadata": {},
   "outputs": [
    {
     "data": {
      "text/html": [
       "<div>\n",
       "<style scoped>\n",
       "    .dataframe tbody tr th:only-of-type {\n",
       "        vertical-align: middle;\n",
       "    }\n",
       "\n",
       "    .dataframe tbody tr th {\n",
       "        vertical-align: top;\n",
       "    }\n",
       "\n",
       "    .dataframe thead th {\n",
       "        text-align: right;\n",
       "    }\n",
       "</style>\n",
       "<table border=\"1\" class=\"dataframe\">\n",
       "  <thead>\n",
       "    <tr style=\"text-align: right;\">\n",
       "      <th></th>\n",
       "      <th>Customer_ID</th>\n",
       "      <th>Order_Date</th>\n",
       "      <th>Restaurant_Name</th>\n",
       "      <th>Area</th>\n",
       "      <th>Cuisine_Type</th>\n",
       "      <th>Order_Value</th>\n",
       "      <th>Delivery_Time_Min</th>\n",
       "      <th>Delivery_Rating</th>\n",
       "      <th>Food_Rating</th>\n",
       "      <th>Payment_Method</th>\n",
       "      <th>Customer_Age</th>\n",
       "      <th>Customer_Gender</th>\n",
       "      <th>Sentiment</th>\n",
       "      <th>City</th>\n",
       "    </tr>\n",
       "  </thead>\n",
       "  <tbody>\n",
       "    <tr>\n",
       "      <th>0</th>\n",
       "      <td>bdd640fb-0667-4ad1-9c80-317fa3b1799d</td>\n",
       "      <td>2023-12-25 04:47:16</td>\n",
       "      <td>Karavalli</td>\n",
       "      <td>BTM Layout</td>\n",
       "      <td>Chinese</td>\n",
       "      <td>409.61</td>\n",
       "      <td>59</td>\n",
       "      <td>3</td>\n",
       "      <td>2</td>\n",
       "      <td>Wallet</td>\n",
       "      <td>20</td>\n",
       "      <td>Male</td>\n",
       "      <td>Positive</td>\n",
       "      <td>Bangalore</td>\n",
       "    </tr>\n",
       "    <tr>\n",
       "      <th>1</th>\n",
       "      <td>23b8c1e9-3924-46de-beb1-3b9046685257</td>\n",
       "      <td>2025-07-09 13:47:45</td>\n",
       "      <td>Corner House</td>\n",
       "      <td>Basavanagudi</td>\n",
       "      <td>Italian</td>\n",
       "      <td>333.41</td>\n",
       "      <td>57</td>\n",
       "      <td>5</td>\n",
       "      <td>5</td>\n",
       "      <td>UPI</td>\n",
       "      <td>43</td>\n",
       "      <td>Female</td>\n",
       "      <td>Negative</td>\n",
       "      <td>Bangalore</td>\n",
       "    </tr>\n",
       "    <tr>\n",
       "      <th>2</th>\n",
       "      <td>bd9c66b3-ad3c-4d6d-9a3d-1fa7bc8960a9</td>\n",
       "      <td>2024-12-30 19:14:11</td>\n",
       "      <td>MTR</td>\n",
       "      <td>Banashankari</td>\n",
       "      <td>Thai</td>\n",
       "      <td>427.72</td>\n",
       "      <td>51</td>\n",
       "      <td>5</td>\n",
       "      <td>3</td>\n",
       "      <td>Credit Card</td>\n",
       "      <td>18</td>\n",
       "      <td>Other</td>\n",
       "      <td>Negative</td>\n",
       "      <td>Bangalore</td>\n",
       "    </tr>\n",
       "    <tr>\n",
       "      <th>3</th>\n",
       "      <td>972a8469-1641-4f82-8b9d-2434e465e150</td>\n",
       "      <td>2025-02-08 06:04:40</td>\n",
       "      <td>Savoury Restaurant</td>\n",
       "      <td>Banashankari</td>\n",
       "      <td>Chinese</td>\n",
       "      <td>532.76</td>\n",
       "      <td>22</td>\n",
       "      <td>2</td>\n",
       "      <td>2</td>\n",
       "      <td>Wallet</td>\n",
       "      <td>60</td>\n",
       "      <td>Male</td>\n",
       "      <td>Positive</td>\n",
       "      <td>Bangalore</td>\n",
       "    </tr>\n",
       "    <tr>\n",
       "      <th>4</th>\n",
       "      <td>17fc695a-07a0-4a6e-8822-e8f36c031199</td>\n",
       "      <td>2024-06-20 15:49:26</td>\n",
       "      <td>Empire Restaurant</td>\n",
       "      <td>Basavanagudi</td>\n",
       "      <td>Italian</td>\n",
       "      <td>321.90</td>\n",
       "      <td>37</td>\n",
       "      <td>3</td>\n",
       "      <td>2</td>\n",
       "      <td>Credit Card</td>\n",
       "      <td>28</td>\n",
       "      <td>Other</td>\n",
       "      <td>Positive</td>\n",
       "      <td>Bangalore</td>\n",
       "    </tr>\n",
       "    <tr>\n",
       "      <th>5</th>\n",
       "      <td>9a1de644-815e-46d1-bb8f-aa1837f8a88b</td>\n",
       "      <td>2024-03-04 19:27:40</td>\n",
       "      <td>Meghana Foods</td>\n",
       "      <td>Indiranagar</td>\n",
       "      <td>Mexican</td>\n",
       "      <td>321.90</td>\n",
       "      <td>22</td>\n",
       "      <td>2</td>\n",
       "      <td>5</td>\n",
       "      <td>UPI</td>\n",
       "      <td>62</td>\n",
       "      <td>Other</td>\n",
       "      <td>Neutral</td>\n",
       "      <td>Bangalore</td>\n",
       "    </tr>\n",
       "    <tr>\n",
       "      <th>6</th>\n",
       "      <td>b74d0fb1-32e7-4629-8fad-c1a606cb0fb3</td>\n",
       "      <td>2024-04-02 12:48:21</td>\n",
       "      <td>Savoury Restaurant</td>\n",
       "      <td>Rajajinagar</td>\n",
       "      <td>Thai</td>\n",
       "      <td>539.51</td>\n",
       "      <td>89</td>\n",
       "      <td>4</td>\n",
       "      <td>2</td>\n",
       "      <td>Debit Card</td>\n",
       "      <td>27</td>\n",
       "      <td>Other</td>\n",
       "      <td>Positive</td>\n",
       "      <td>Bangalore</td>\n",
       "    </tr>\n",
       "    <tr>\n",
       "      <th>7</th>\n",
       "      <td>6b65a6a4-8b81-48f6-b38a-088ca65ed389</td>\n",
       "      <td>2024-06-07 17:28:07</td>\n",
       "      <td>Karavalli</td>\n",
       "      <td>Banashankari</td>\n",
       "      <td>Mexican</td>\n",
       "      <td>442.09</td>\n",
       "      <td>19</td>\n",
       "      <td>3</td>\n",
       "      <td>3</td>\n",
       "      <td>Debit Card</td>\n",
       "      <td>26</td>\n",
       "      <td>Male</td>\n",
       "      <td>Neutral</td>\n",
       "      <td>Bangalore</td>\n",
       "    </tr>\n",
       "    <tr>\n",
       "      <th>8</th>\n",
       "      <td>47378190-96da-4dac-b2ff-5d2a386ecbe0</td>\n",
       "      <td>2024-06-27 16:33:53</td>\n",
       "      <td>Corner House</td>\n",
       "      <td>Jayanagar</td>\n",
       "      <td>Thai</td>\n",
       "      <td>293.66</td>\n",
       "      <td>82</td>\n",
       "      <td>1</td>\n",
       "      <td>3</td>\n",
       "      <td>Debit Card</td>\n",
       "      <td>34</td>\n",
       "      <td>Male</td>\n",
       "      <td>Positive</td>\n",
       "      <td>Bangalore</td>\n",
       "    </tr>\n",
       "    <tr>\n",
       "      <th>9</th>\n",
       "      <td>c241330b-01a9-471f-9e8a-774bcf36d58b</td>\n",
       "      <td>2025-06-14 12:15:45</td>\n",
       "      <td>Toit</td>\n",
       "      <td>Koramangala</td>\n",
       "      <td>Middle Eastern</td>\n",
       "      <td>415.11</td>\n",
       "      <td>71</td>\n",
       "      <td>1</td>\n",
       "      <td>3</td>\n",
       "      <td>Cash</td>\n",
       "      <td>20</td>\n",
       "      <td>Male</td>\n",
       "      <td>Neutral</td>\n",
       "      <td>Bangalore</td>\n",
       "    </tr>\n",
       "  </tbody>\n",
       "</table>\n",
       "</div>"
      ],
      "text/plain": [
       "                            Customer_ID           Order_Date  \\\n",
       "0  bdd640fb-0667-4ad1-9c80-317fa3b1799d  2023-12-25 04:47:16   \n",
       "1  23b8c1e9-3924-46de-beb1-3b9046685257  2025-07-09 13:47:45   \n",
       "2  bd9c66b3-ad3c-4d6d-9a3d-1fa7bc8960a9  2024-12-30 19:14:11   \n",
       "3  972a8469-1641-4f82-8b9d-2434e465e150  2025-02-08 06:04:40   \n",
       "4  17fc695a-07a0-4a6e-8822-e8f36c031199  2024-06-20 15:49:26   \n",
       "5  9a1de644-815e-46d1-bb8f-aa1837f8a88b  2024-03-04 19:27:40   \n",
       "6  b74d0fb1-32e7-4629-8fad-c1a606cb0fb3  2024-04-02 12:48:21   \n",
       "7  6b65a6a4-8b81-48f6-b38a-088ca65ed389  2024-06-07 17:28:07   \n",
       "8  47378190-96da-4dac-b2ff-5d2a386ecbe0  2024-06-27 16:33:53   \n",
       "9  c241330b-01a9-471f-9e8a-774bcf36d58b  2025-06-14 12:15:45   \n",
       "\n",
       "      Restaurant_Name          Area    Cuisine_Type  Order_Value  \\\n",
       "0           Karavalli    BTM Layout         Chinese       409.61   \n",
       "1        Corner House  Basavanagudi         Italian       333.41   \n",
       "2                 MTR  Banashankari            Thai       427.72   \n",
       "3  Savoury Restaurant  Banashankari         Chinese       532.76   \n",
       "4   Empire Restaurant  Basavanagudi         Italian       321.90   \n",
       "5       Meghana Foods   Indiranagar         Mexican       321.90   \n",
       "6  Savoury Restaurant   Rajajinagar            Thai       539.51   \n",
       "7           Karavalli  Banashankari         Mexican       442.09   \n",
       "8        Corner House     Jayanagar            Thai       293.66   \n",
       "9                Toit   Koramangala  Middle Eastern       415.11   \n",
       "\n",
       "   Delivery_Time_Min  Delivery_Rating  Food_Rating Payment_Method  \\\n",
       "0                 59                3            2         Wallet   \n",
       "1                 57                5            5            UPI   \n",
       "2                 51                5            3    Credit Card   \n",
       "3                 22                2            2         Wallet   \n",
       "4                 37                3            2    Credit Card   \n",
       "5                 22                2            5            UPI   \n",
       "6                 89                4            2     Debit Card   \n",
       "7                 19                3            3     Debit Card   \n",
       "8                 82                1            3     Debit Card   \n",
       "9                 71                1            3           Cash   \n",
       "\n",
       "   Customer_Age Customer_Gender Sentiment       City  \n",
       "0            20            Male  Positive  Bangalore  \n",
       "1            43          Female  Negative  Bangalore  \n",
       "2            18           Other  Negative  Bangalore  \n",
       "3            60            Male  Positive  Bangalore  \n",
       "4            28           Other  Positive  Bangalore  \n",
       "5            62           Other   Neutral  Bangalore  \n",
       "6            27           Other  Positive  Bangalore  \n",
       "7            26            Male   Neutral  Bangalore  \n",
       "8            34            Male  Positive  Bangalore  \n",
       "9            20            Male   Neutral  Bangalore  "
      ]
     },
     "execution_count": 2,
     "metadata": {},
     "output_type": "execute_result"
    }
   ],
   "source": [
    "# Data Cleaning\n",
    "import pandas as pd\n",
    "\n",
    "# Load dataset\n",
    "df = pd.read_csv('C:\\\\Users\\\\Dhusyath\\\\Downloads\\\\PROJECTS_DA\\\\PROJECTS_DA\\\\swiggy customer beh & sentiment analysis\\\\swiggy_data.csv')\n",
    "\n",
    "df.head(10)\n",
    "\n"
   ]
  },
  {
   "cell_type": "code",
   "execution_count": 6,
   "id": "1d5902f7",
   "metadata": {},
   "outputs": [
    {
     "name": "stdout",
     "output_type": "stream",
     "text": [
      "Number of duplicate rows: 0\n"
     ]
    }
   ],
   "source": [
    "# Count duplicate rows\n",
    "num_duplicates = df.duplicated().sum()\n",
    "print(f\"Number of duplicate rows: {num_duplicates}\")\n",
    "\n",
    "# Drop duplicates\n",
    "df.drop_duplicates(inplace=True)\n"
   ]
  },
  {
   "cell_type": "code",
   "execution_count": 7,
   "id": "8de28e77",
   "metadata": {},
   "outputs": [
    {
     "name": "stdout",
     "output_type": "stream",
     "text": [
      "<class 'pandas.core.frame.DataFrame'>\n",
      "RangeIndex: 200000 entries, 0 to 199999\n",
      "Data columns (total 14 columns):\n",
      " #   Column             Non-Null Count   Dtype  \n",
      "---  ------             --------------   -----  \n",
      " 0   Customer_ID        200000 non-null  object \n",
      " 1   Order_Date         200000 non-null  object \n",
      " 2   Restaurant_Name    200000 non-null  object \n",
      " 3   Area               200000 non-null  object \n",
      " 4   Cuisine_Type       200000 non-null  object \n",
      " 5   Order_Value        200000 non-null  float64\n",
      " 6   Delivery_Time_Min  200000 non-null  int64  \n",
      " 7   Delivery_Rating    200000 non-null  int64  \n",
      " 8   Food_Rating        200000 non-null  int64  \n",
      " 9   Payment_Method     200000 non-null  object \n",
      " 10  Customer_Age       200000 non-null  int64  \n",
      " 11  Customer_Gender    200000 non-null  object \n",
      " 12  Sentiment          200000 non-null  object \n",
      " 13  City               200000 non-null  object \n",
      "dtypes: float64(1), int64(4), object(9)\n",
      "memory usage: 21.4+ MB\n"
     ]
    }
   ],
   "source": [
    "df.info()"
   ]
  },
  {
   "cell_type": "code",
   "execution_count": 8,
   "id": "80ddcbe7",
   "metadata": {},
   "outputs": [
    {
     "data": {
      "text/html": [
       "<div>\n",
       "<style scoped>\n",
       "    .dataframe tbody tr th:only-of-type {\n",
       "        vertical-align: middle;\n",
       "    }\n",
       "\n",
       "    .dataframe tbody tr th {\n",
       "        vertical-align: top;\n",
       "    }\n",
       "\n",
       "    .dataframe thead th {\n",
       "        text-align: right;\n",
       "    }\n",
       "</style>\n",
       "<table border=\"1\" class=\"dataframe\">\n",
       "  <thead>\n",
       "    <tr style=\"text-align: right;\">\n",
       "      <th></th>\n",
       "      <th>Order_Value</th>\n",
       "      <th>Delivery_Time_Min</th>\n",
       "      <th>Delivery_Rating</th>\n",
       "      <th>Food_Rating</th>\n",
       "      <th>Customer_Age</th>\n",
       "    </tr>\n",
       "  </thead>\n",
       "  <tbody>\n",
       "    <tr>\n",
       "      <th>count</th>\n",
       "      <td>200000.000000</td>\n",
       "      <td>200000.000000</td>\n",
       "      <td>200000.000000</td>\n",
       "      <td>200000.000000</td>\n",
       "      <td>200000.000000</td>\n",
       "    </tr>\n",
       "    <tr>\n",
       "      <th>mean</th>\n",
       "      <td>350.116869</td>\n",
       "      <td>51.865370</td>\n",
       "      <td>2.999420</td>\n",
       "      <td>2.998650</td>\n",
       "      <td>40.956475</td>\n",
       "    </tr>\n",
       "    <tr>\n",
       "      <th>std</th>\n",
       "      <td>119.990480</td>\n",
       "      <td>21.601804</td>\n",
       "      <td>1.413725</td>\n",
       "      <td>1.415369</td>\n",
       "      <td>13.573010</td>\n",
       "    </tr>\n",
       "    <tr>\n",
       "      <th>min</th>\n",
       "      <td>-185.870000</td>\n",
       "      <td>15.000000</td>\n",
       "      <td>1.000000</td>\n",
       "      <td>1.000000</td>\n",
       "      <td>18.000000</td>\n",
       "    </tr>\n",
       "    <tr>\n",
       "      <th>25%</th>\n",
       "      <td>269.110000</td>\n",
       "      <td>33.000000</td>\n",
       "      <td>2.000000</td>\n",
       "      <td>2.000000</td>\n",
       "      <td>29.000000</td>\n",
       "    </tr>\n",
       "    <tr>\n",
       "      <th>50%</th>\n",
       "      <td>350.200000</td>\n",
       "      <td>52.000000</td>\n",
       "      <td>3.000000</td>\n",
       "      <td>3.000000</td>\n",
       "      <td>41.000000</td>\n",
       "    </tr>\n",
       "    <tr>\n",
       "      <th>75%</th>\n",
       "      <td>431.130000</td>\n",
       "      <td>70.000000</td>\n",
       "      <td>4.000000</td>\n",
       "      <td>4.000000</td>\n",
       "      <td>53.000000</td>\n",
       "    </tr>\n",
       "    <tr>\n",
       "      <th>max</th>\n",
       "      <td>897.450000</td>\n",
       "      <td>89.000000</td>\n",
       "      <td>5.000000</td>\n",
       "      <td>5.000000</td>\n",
       "      <td>64.000000</td>\n",
       "    </tr>\n",
       "  </tbody>\n",
       "</table>\n",
       "</div>"
      ],
      "text/plain": [
       "         Order_Value  Delivery_Time_Min  Delivery_Rating    Food_Rating  \\\n",
       "count  200000.000000      200000.000000    200000.000000  200000.000000   \n",
       "mean      350.116869          51.865370         2.999420       2.998650   \n",
       "std       119.990480          21.601804         1.413725       1.415369   \n",
       "min      -185.870000          15.000000         1.000000       1.000000   \n",
       "25%       269.110000          33.000000         2.000000       2.000000   \n",
       "50%       350.200000          52.000000         3.000000       3.000000   \n",
       "75%       431.130000          70.000000         4.000000       4.000000   \n",
       "max       897.450000          89.000000         5.000000       5.000000   \n",
       "\n",
       "        Customer_Age  \n",
       "count  200000.000000  \n",
       "mean       40.956475  \n",
       "std        13.573010  \n",
       "min        18.000000  \n",
       "25%        29.000000  \n",
       "50%        41.000000  \n",
       "75%        53.000000  \n",
       "max        64.000000  "
      ]
     },
     "execution_count": 8,
     "metadata": {},
     "output_type": "execute_result"
    }
   ],
   "source": [
    "df.describe()"
   ]
  },
  {
   "cell_type": "code",
   "execution_count": null,
   "id": "58f04fd9",
   "metadata": {},
   "outputs": [],
   "source": [
    "# handle negative or unrealtic order values\n",
    "df=df[df['Order_Value']>0]"
   ]
  },
  {
   "cell_type": "code",
   "execution_count": 10,
   "id": "e5ac85f8",
   "metadata": {},
   "outputs": [],
   "source": [
    "# cap age to realistic range\n",
    "df=df[(df[\"Customer_Age\"]>=18)&(df[\"Customer_Age\"]<=65)]"
   ]
  },
  {
   "cell_type": "code",
   "execution_count": 11,
   "id": "b6492a77",
   "metadata": {},
   "outputs": [],
   "source": [
    "# convert Order Date to Datetime\n",
    "df[\"Order_Date\"]=pd.to_datetime(df[\"Order_Date\"])"
   ]
  },
  {
   "cell_type": "code",
   "execution_count": 12,
   "id": "89032e37",
   "metadata": {},
   "outputs": [],
   "source": [
    "# reset index\n",
    "df.reset_index(drop=True,inplace=True)"
   ]
  },
  {
   "cell_type": "code",
   "execution_count": 13,
   "id": "343f83ee",
   "metadata": {},
   "outputs": [],
   "source": [
    "# DATA QUALITY CHECKS"
   ]
  },
  {
   "cell_type": "code",
   "execution_count": null,
   "id": "1584aa1e",
   "metadata": {},
   "outputs": [
    {
     "name": "stdout",
     "output_type": "stream",
     "text": [
      "Customer_ID          0\n",
      "Order_Date           0\n",
      "Restaurant_Name      0\n",
      "Area                 0\n",
      "Cuisine_Type         0\n",
      "Order_Value          0\n",
      "Delivery_Time_Min    0\n",
      "Delivery_Rating      0\n",
      "Food_Rating          0\n",
      "Payment_Method       0\n",
      "Customer_Age         0\n",
      "Customer_Gender      0\n",
      "Sentiment            0\n",
      "City                 0\n",
      "dtype: int64\n",
      "                          Order_Date    Order_Value  Delivery_Time_Min  \\\n",
      "count                         199647  199647.000000      199647.000000   \n",
      "mean   2024-08-09 15:27:23.245418240     350.794942          51.865448   \n",
      "min              2023-08-10 08:14:25       0.150000          15.000000   \n",
      "25%       2024-02-09 02:48:44.500000     269.680000          33.000000   \n",
      "50%              2024-08-09 13:43:59     350.480000          52.000000   \n",
      "75%              2025-02-07 23:51:18     431.240000          70.000000   \n",
      "max              2025-08-09 19:44:20     897.450000          89.000000   \n",
      "std                              NaN     118.999594          21.602704   \n",
      "\n",
      "       Delivery_Rating    Food_Rating   Customer_Age  \n",
      "count    199647.000000  199647.000000  199647.000000  \n",
      "mean          2.999459       2.998768      40.956027  \n",
      "min           1.000000       1.000000      18.000000  \n",
      "25%           2.000000       2.000000      29.000000  \n",
      "50%           3.000000       3.000000      41.000000  \n",
      "75%           4.000000       4.000000      53.000000  \n",
      "max           5.000000       5.000000      64.000000  \n",
      "std           1.413756       1.415427      13.572651  \n",
      "Customer_ID          199647\n",
      "Order_Date           199324\n",
      "Restaurant_Name          17\n",
      "Area                     18\n",
      "Cuisine_Type              7\n",
      "Order_Value           51271\n",
      "Delivery_Time_Min        75\n",
      "Delivery_Rating           5\n",
      "Food_Rating               5\n",
      "Payment_Method            5\n",
      "Customer_Age             47\n",
      "Customer_Gender           3\n",
      "Sentiment                 3\n",
      "City                      1\n",
      "dtype: int64\n"
     ]
    }
   ],
   "source": [
    "# CHECK FOR MISSING VALUES\n",
    "print(df.isnull().sum())\n",
    "\n",
    "# basic stats\n",
    "print(df.describe())\n",
    "\n",
    "# unique values per column\n",
    "print(df.nunique())\n",
    "\n"
   ]
  },
  {
   "cell_type": "code",
   "execution_count": 3,
   "id": "1e9636fb",
   "metadata": {},
   "outputs": [],
   "source": [
    "df.to_csv(\"cleaned_swiggy.csv\", index=False)"
   ]
  },
  {
   "cell_type": "code",
   "execution_count": 4,
   "id": "2ce7c3c1",
   "metadata": {},
   "outputs": [
    {
     "name": "stdout",
     "output_type": "stream",
     "text": [
      "<class 'pandas.core.frame.DataFrame'>\n",
      "RangeIndex: 200000 entries, 0 to 199999\n",
      "Data columns (total 14 columns):\n",
      " #   Column             Non-Null Count   Dtype  \n",
      "---  ------             --------------   -----  \n",
      " 0   Customer_ID        200000 non-null  object \n",
      " 1   Order_Date         200000 non-null  object \n",
      " 2   Restaurant_Name    200000 non-null  object \n",
      " 3   Area               200000 non-null  object \n",
      " 4   Cuisine_Type       200000 non-null  object \n",
      " 5   Order_Value        200000 non-null  float64\n",
      " 6   Delivery_Time_Min  200000 non-null  int64  \n",
      " 7   Delivery_Rating    200000 non-null  int64  \n",
      " 8   Food_Rating        200000 non-null  int64  \n",
      " 9   Payment_Method     200000 non-null  object \n",
      " 10  Customer_Age       200000 non-null  int64  \n",
      " 11  Customer_Gender    200000 non-null  object \n",
      " 12  Sentiment          200000 non-null  object \n",
      " 13  City               200000 non-null  object \n",
      "dtypes: float64(1), int64(4), object(9)\n",
      "memory usage: 21.4+ MB\n"
     ]
    }
   ],
   "source": [
    "df.info()"
   ]
  },
  {
   "cell_type": "code",
   "execution_count": 16,
   "id": "4cc8c321",
   "metadata": {},
   "outputs": [],
   "source": [
    "# DATA EXPLORATION AND VISUALIZATION"
   ]
  },
  {
   "cell_type": "code",
   "execution_count": 20,
   "id": "6062ce56",
   "metadata": {},
   "outputs": [
    {
     "data": {
      "image/png": "[encoded data removed]",
      "text/plain": [
       "<Figure size 1000x600 with 1 Axes>"
      ]
     },
     "metadata": {},
     "output_type": "display_data"
    }
   ],
   "source": [
    "import matplotlib.pyplot as plt\n",
    "import seaborn as sns\n",
    "\n",
    "#  cuisine popularity\n",
    "plt.figure(figsize=(10,6))\n",
    "sns.countplot(data=df,x=\"Cuisine_Type\",order=df[\"Cuisine_Type\"].value_counts().index)\n",
    "plt.title(\"Cuisine popularity in Bnagalore\")\n",
    "plt.xticks(rotation=45)\n",
    "plt.show()"
   ]
  },
  {
   "cell_type": "code",
   "execution_count": 22,
   "id": "b297079d",
   "metadata": {},
   "outputs": [
    {
     "name": "stderr",
     "output_type": "stream",
     "text": [
      "C:\\Users\\Dhusyath\\AppData\\Local\\Temp\\ipykernel_7788\\4208689527.py:2: FutureWarning: \n",
      "\n",
      "Passing `palette` without assigning `hue` is deprecated and will be removed in v0.14.0. Assign the `x` variable to `hue` and set `legend=False` for the same effect.\n",
      "\n",
      "  sns.countplot(data=df, x=\"Sentiment\",palette=\"Set2\")\n"
     ]
    },
    {
     "data": {
      "image/png": "[encoded data removed]",
      "text/plain": [
       "<Figure size 640x480 with 1 Axes>"
      ]
     },
     "metadata": {},
     "output_type": "display_data"
    }
   ],
   "source": [
    "# sentiment distribution\n",
    "sns.countplot(data=df, x=\"Sentiment\",palette=\"Set2\")\n",
    "plt.title(\"customer sentyiment distribution\")\n",
    "plt.show()\n"
   ]
  },
  {
   "cell_type": "code",
   "execution_count": 23,
   "id": "82db4e02",
   "metadata": {},
   "outputs": [
    {
     "data": {
      "image/png": "[encoded data removed]",
      "text/plain": [
       "<Figure size 640x480 with 1 Axes>"
      ]
     },
     "metadata": {},
     "output_type": "display_data"
    }
   ],
   "source": [
    "# Delivery time vs rating\n",
    "sns.boxplot(data=df, x=\"Delivery_Rating\", y=\"Delivery_Time_Min\")\n",
    "plt.title(\"Delivery Time by Rating\")\n",
    "plt.show()"
   ]
  },
  {
   "cell_type": "code",
   "execution_count": 24,
   "id": "b7ae4a7c",
   "metadata": {},
   "outputs": [
    {
     "data": {
      "image/png": "[encoded data removed]",
      "text/plain": [
       "<Figure size 640x480 with 1 Axes>"
      ]
     },
     "metadata": {},
     "output_type": "display_data"
    }
   ],
   "source": [
    "# Age distribution\n",
    "sns.histplot(df[\"Customer_Age\"], bins=20, kde=True)\n",
    "plt.title(\"Customer Age Distribution\")\n",
    "plt.show()"
   ]
  },
  {
   "cell_type": "code",
   "execution_count": 26,
   "id": "e5c7bfcf",
   "metadata": {},
   "outputs": [
    {
     "name": "stdout",
     "output_type": "stream",
     "text": [
      "✅ Model trained and saved as rf_model.pkl\n"
     ]
    }
   ],
   "source": [
    "# train_model.py\n",
    "import pandas as pd\n",
    "from sklearn.model_selection import train_test_split\n",
    "from sklearn.ensemble import RandomForestClassifier\n",
    "import pickle\n",
    "\n",
    "# Load dataset\n",
    "df = pd.read_csv('C:\\\\Users\\\\Dhusyath\\\\Downloads\\\\PROJECTS_DA\\\\PROJECTS_DA\\\\swiggy customer beh & sentiment analysis\\\\swiggy_data.csv')\n",
    "\n",
    "# ✅ Select features used in the Streamlit app\n",
    "features = [\"Order_Value\", \"Delivery_Time_Min\", \"Delivery_Rating\", \"Food_Rating\", \"Customer_Age\"]\n",
    "X = df[features]\n",
    "\n",
    "# 🎯 Target variable: Sentiment (0 = Negative, 1 = Neutral, 2 = Positive)\n",
    "y = df[\"Sentiment\"]  # Make sure this column exists and is encoded as 0/1/2\n",
    "\n",
    "# Split data\n",
    "X_train, X_test, y_train, y_test = train_test_split(X, y, test_size=0.2, random_state=42)\n",
    "\n",
    "# Train model\n",
    "model = RandomForestClassifier(n_estimators=100, random_state=42)\n",
    "model.fit(X_train, y_train)\n",
    "\n",
    "# Save model\n",
    "pickle.dump(model, open(\"rf_model.pkl\", \"wb\"))\n",
    "print(\"✅ Model trained and saved as rf_model.pkl\")\n"
   ]
  },
  {
   "cell_type": "code",
   "execution_count": null,
   "id": "71ca6be5",
   "metadata": {},
   "outputs": [],
   "source": []
  }
 ],
 "metadata": {
  "kernelspec": {
   "display_name": "base",
   "language": "python",
   "name": "python3"
  },
  "language_info": {
   "codemirror_mode": {
    "name": "ipython",
    "version": 3
   },
   "file_extension": ".py",
   "mimetype": "text/x-python",
   "name": "python",
   "nbconvert_exporter": "python",
   "pygments_lexer": "ipython3",
   "version": "3.13.5"
  }
 },
 "nbformat": 4,
 "nbformat_minor": 5
}
